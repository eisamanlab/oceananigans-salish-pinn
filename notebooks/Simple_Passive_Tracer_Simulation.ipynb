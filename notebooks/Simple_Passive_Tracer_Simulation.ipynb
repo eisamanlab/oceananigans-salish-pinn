{
 "cells": [
  {
   "cell_type": "code",
   "execution_count": null,
   "id": "7f886087-7e08-4e54-9ea1-5baebeeed604",
   "metadata": {},
   "outputs": [],
   "source": [
    "#model uses 2024 GEBCO bathymetry file downloaded in the repo "
   ]
  },
  {
   "cell_type": "code",
   "execution_count": null,
   "id": "a712da4c-9acb-4a93-981a-e716fdf0aac3",
   "metadata": {},
   "outputs": [],
   "source": [
    "import Pkg\n",
    "Pkg.activate(@__DIR__)  \n",
    "#Pkg.instantiate()        # all dependencies are installed -- do once only"
   ]
  },
  {
   "cell_type": "code",
   "execution_count": null,
   "id": "baceeb97-99bb-412d-86cf-8251065372ea",
   "metadata": {},
   "outputs": [],
   "source": [
    "#in case activate environment does not work\n",
    "using Pkg\n",
    "using Oceananigans\n",
    "using Oceananigans.Units\n",
    "import ClimaOcean\n",
    "using Printf\n",
    "using Dates, CFTime\n",
    "Pkg.add(\"Interpolations\")\n",
    "Pkg.add(\"NCDatasets\")\n",
    "Pkg.add(\"CairoMakie\")"
   ]
  },
  {
   "cell_type": "code",
   "execution_count": null,
   "id": "41c31d49-57bb-4e3e-9387-005eb2c21228",
   "metadata": {},
   "outputs": [],
   "source": [
    "using NCDatasets\n",
    "p = \"filepath_of_grid\" "
   ]
  },
  {
   "cell_type": "code",
   "execution_count": null,
   "id": "aa170824-8f9b-4aaa-98da-4ae3d3f9d695",
   "metadata": {},
   "outputs": [],
   "source": [
    "#using the netcdf\n",
    "ds = NCDataset(p)\n",
    "\n",
    "println(ds)\n",
    "println(\"Variables in dataset: \", keys(ds))\n",
    "println(\"Dimensions: \", ds.dim)\n",
    "\n",
    "lon = ds[\"lon\"][:]  \n",
    "lat = ds[\"lat\"][:]  \n",
    "depth = ds[\"elevation\"][:, :] \n",
    "lat_res = abs(lat[2] - lat[1])  \n",
    "lon_res = abs(lon[2] - lon[1])  \n",
    "\n",
    "println(\"lat Resolution: \", lat_res, \" degrees\")\n",
    "println(\"long Resolution: \", lon_res, \" degrees\")\n",
    "\n",
    "close(ds)\n",
    "#500 m resolution "
   ]
  },
  {
   "cell_type": "code",
   "execution_count": null,
   "id": "778393b8-be87-4994-b2e0-1d5db132db14",
   "metadata": {},
   "outputs": [],
   "source": [
    "Nx = length(lon) \n",
    "Ny = length(lat)\n",
    "Nz = 25\n",
    "long_min = (minimum(lon))\n",
    "long_max = (maximum(lon))\n",
    "lat_min = (minimum(lat))\n",
    "lat_max = (maximum(lat))\n",
    "min_z = (minimum(depth))\n",
    "arch = CPU() #change to GPU \n",
    "\n",
    "grid = LatitudeLongitudeGrid(arch,\n",
    "                             size = (length(lon), length(lat), 25), \n",
    "                             halo = (7, 7, 7),  \n",
    "                             longitude = (minimum(lon), maximum(lon)),\n",
    "                             latitude = (minimum(lat), maximum(lat)),\n",
    "                             z = (minimum(depth), 0))"
   ]
  },
  {
   "cell_type": "code",
   "execution_count": null,
   "id": "b539d52b-9d9e-4156-8453-4a88e01cba07",
   "metadata": {},
   "outputs": [],
   "source": [
    "# Pkg.add(\"Interpolations\") #if needed\n",
    "\n",
    "using Interpolations\n",
    "\n",
    "bathymetry_interp = interpolate((lon, lat), depth, Gridded(Linear()))\n",
    "\n",
    "bottom_height = [bathymetry_interp(lon[i], lat[j]) for i in 1:length(lon), j in 1:length(lat)]\n",
    "\n",
    "grid = ImmersedBoundaryGrid(grid, GridFittedBottom(bottom_height))\n"
   ]
  },
  {
   "cell_type": "code",
   "execution_count": null,
   "id": "c4d2d2a9-c8b7-47a5-a7d6-de4b720235b0",
   "metadata": {
    "scrolled": true
   },
   "outputs": [],
   "source": [
    "## plots the new bathymetry (this plot does not look right)\n",
    "# using CairoMakie\n",
    "# longitudes = range(long_min, long_max, length=Nx) #start:step:end --> first value, step size, last value\n",
    "# latitudes = range(lat_min, lat_max, length=Ny)  \n",
    "\n",
    "# #make a map of bathymetry\n",
    "# fig = Figure()\n",
    "# ax  = Axis(fig[1, 1],xlabel = \"Longitude\", ylabel = \"Latitude\", aspect = 0.6)\n",
    "# hm = heatmap!(longitudes, latitudes, bottom_height, colorrange = (-250, 250), colormap = :bukavu)\n",
    "# cb = Colorbar(fig[1,2], hm, label = \"depth (m)\")\n",
    "# cb.height = Relative(1.0)\n",
    "# # scatter!(236.5425 - 360, 48.24, color= :red, markersize = 10)\n",
    "\n",
    "# display(fig)\n"
   ]
  },
  {
   "cell_type": "code",
   "execution_count": null,
   "id": "4b54e6e4-766a-4be4-831d-3f473c27e8b3",
   "metadata": {},
   "outputs": [],
   "source": [
    "# using CairoMakie #(better plot)\n",
    "# fig = Figure()\n",
    "# ax = Axis(fig[1,1], title= \"bathymetry\")\n",
    "# hm = heatmap!(ax, bathymetry_interp, colormap=:topo, colorrange=(minimum(bathymetry_interp), maximum(bathymetry_interp)))\n",
    "# display(fig)\n",
    "# # save bathymetry if wanted\n",
    "# # save(\"SalishSea_bathymetry1.png\", fig)"
   ]
  },
  {
   "cell_type": "code",
   "execution_count": null,
   "id": "0fcfd582-1aa7-4f3b-b36f-a0c8761a5294",
   "metadata": {},
   "outputs": [],
   "source": [
    "# # check resolution / might need to check variable names\n",
    "# using Statistics\n",
    "\n",
    "# km_per_degree_lon = 111.32 * cosd(mean(latitudes))  \n",
    "# km_per_degree_lat = 111.32 \n",
    "\n",
    "# Δx_M = Δλ * km_per_degree_lon *100\n",
    "# Δy_M = Δφ * km_per_degree_lat  *100\n",
    "\n",
    "# @show Δx_M, Δy_M"
   ]
  },
  {
   "cell_type": "code",
   "execution_count": null,
   "id": "1c7a3228-3b88-4565-89e9-f03cce4c4aff",
   "metadata": {},
   "outputs": [],
   "source": [
    "#finds the nearest grid indices (x,y) corresponding with a lat and long\n",
    "function find_nearest_index(grid, lon, lat, z)\n",
    "    ugrid = grid.underlying_grid #determined using underlying grid when inspecting grid meta data \n",
    "\n",
    "    lon_vals = collect(ugrid.λᶜᵃᵃ)  # centered longitude\n",
    "    lat_vals = collect(ugrid.φᵃᶜᵃ)  # centered latitude\n",
    "    z_vals   = collect(ugrid.zᵃᵃᶜ)  # correct depth values\n",
    "    z_idx = argmin(abs.(z_vals .- z))  \n",
    "\n",
    "\n",
    "    lon_idx = argmin(abs.(lon_vals .- lon)) #subtracts each long value from desired lon value & finds the index of the closest value\n",
    "    lat_idx = argmin(abs.(lat_vals .- lat))\n",
    "\n",
    "    println(\"Nearest indices found: lon_idx=$lon_idx, lat_idx=$lat_idx\")\n",
    "    return lon_idx, lat_idx, z_idx\n",
    "end\n",
    "\n",
    "z = 0\n",
    "const lat_release = 48.12   \n",
    "const lon_release = -123.40 \n",
    "\n",
    "lon_idx, lat_idx, z_idx = find_nearest_index(grid, lon_release, lat_release, z)"
   ]
  },
  {
   "cell_type": "code",
   "execution_count": null,
   "id": "61245470-17ce-404a-ad55-93a4b6886b38",
   "metadata": {},
   "outputs": [],
   "source": [
    "using Oceananigans\n",
    "using Oceananigans.Fields: CenterField\n",
    "\n",
    "#from luke's code\n",
    "\n",
    "u₁₀ = 10    # Wind speed at 10m height (m/s)\n",
    "ρₒ = 1026.0 # Ocean surface density (kg/m³)\n",
    "cᴰ = 2.5e-3 # Drag coefficient (dimensionless)\n",
    "ρₐ = 1.225  # Air density at sea level (kg/m³)\n",
    "\n",
    "# Define wind stress forcing (momentum flux at surface)\n",
    "@inline wind_stress_x(x, y, t, p=nothing) = (- ρₐ / ρₒ * cᴰ * u₁₀ * abs(u₁₀)) * rand()\n",
    "@inline wind_stress_y(x, y, t, p=nothing) = (- ρₐ / ρₒ * cᴰ * u₁₀ * abs(u₁₀)) * rand()\n",
    "\n",
    "\n",
    "# Boundary conditions applying wind stress\n",
    "u_top_bcs = FluxBoundaryCondition(wind_stress_x) #Adds momentum input at the surface (east-west wind)\n",
    "v_top_bcs = FluxBoundaryCondition(wind_stress_y) #Adds momentum input at the surface (north-south wind)\n",
    "\n",
    "u_bcs = FieldBoundaryConditions(top = u_top_bcs) \n",
    "v_bcs = FieldBoundaryConditions(top = v_top_bcs)\n",
    "\n",
    "c_bcs = FieldBoundaryConditions()  # Passive tracer boundary condition\n",
    "\n",
    "\n",
    "@time model = HydrostaticFreeSurfaceModel(; \n",
    "    grid = grid,\n",
    "    clock = Clock{Float64}(time = 0),\n",
    "    momentum_advection = VectorInvariant(),  \n",
    "    tracer_advection = Centered(),\n",
    "    forcing = NamedTuple(), \n",
    "    boundary_conditions = (u=u_bcs, v=v_bcs, c=c_bcs),  \n",
    "    tracers = (:c,), \n",
    "    pressure = nothing,\n",
    "    diffusivity_fields = nothing,\n",
    "    velocities = nothing, \n",
    "    auxiliary_fields = NamedTuple(),\n",
    ")\n",
    "\n",
    "\n",
    "\n",
    "ugrid = grid.underlying_grid\n",
    "\n",
    "#note here: setting tracer to entire associated zC column for sole purpose of simulating -- change this \n",
    "\n",
    "r = size(model.tracers.c, 3)  #the max valid depth index\n",
    "\n",
    "for k in 1:r  # Ensure we don't exceed depth range\n",
    "    model.tracers.c[lon_idx, lat_idx, k] = 5.0\n",
    "end\n",
    "\n",
    "\n",
    "\n",
    "## set!(model, c=c_initial) redundant if using above code"
   ]
  },
  {
   "cell_type": "code",
   "execution_count": null,
   "id": "49468288-f25d-457d-b202-baac2904e29e",
   "metadata": {},
   "outputs": [],
   "source": [
    "u_initial = similar(model.velocities.u) \n",
    "v_initial = similar(model.velocities.v)\n",
    "w_initial = similar(model.velocities.w)\n",
    "\n",
    "u_initial .= 0.2  # test case for simulation -- change\n",
    "v_initial .= 0.0  # no flow\n",
    "w_initial .= 0.0  # no flow \n",
    "\n",
    "set!(model.velocities.u, u_initial)\n",
    "set!(model.velocities.v, v_initial)\n",
    "set!(model.velocities.w, w_initial)\n",
    "\n"
   ]
  },
  {
   "cell_type": "code",
   "execution_count": null,
   "id": "cbc67182-6cfc-4171-91db-925ea8c3224f",
   "metadata": {},
   "outputs": [],
   "source": [
    "# #T and S: skipping this for now because ECCO not retrieving data correctly \n",
    "#confirmed user/pass for ecco but still not working \n",
    "\n",
    "\n",
    "# T = ClimaOcean.ECCOMetadata(:temperature; dates) #retreiving metadata only \n",
    "# S = ClimaOcean.ECCOMetadata(:salinity; dates)\n",
    "# # FT = ECCORestoring(T, CPU(); rate=1/2days)\n",
    "# # FS = ECCORestoring(S, CPU(); rate=1/2days)\n",
    "# set!(ocean.model, T = ClimaOcean.ECCOMetadata(:temperature; dates),\n",
    "# S = ClimaOcean.ECCOMetadata(:salinity; dates))"
   ]
  },
  {
   "cell_type": "code",
   "execution_count": null,
   "id": "968a9c38-e8bf-49a2-a2da-4b6cc1ba0b11",
   "metadata": {},
   "outputs": [],
   "source": [
    "# ugrid = grid.underlying_grid\n",
    "\n",
    "# x_size = length(ugrid.λᶜᵃᵃ)  # Number of longitude points\n",
    "# y_size = length(ugrid.φᵃᶜᵃ)  # Number of latitude points\n"
   ]
  },
  {
   "cell_type": "code",
   "execution_count": null,
   "id": "ee026525-f771-412a-898b-23e22281ef52",
   "metadata": {},
   "outputs": [],
   "source": [
    "# # `cᵃᵃᶜ` : where tracers will be stored ( cell centers )\n",
    "# depth_vals = collect(ugrid.z.cᵃᵃᶜ)\n",
    "# println(\"Depth range: \", (minimum(depth_vals), maximum(depth_vals)))\n",
    "# println(\"Sample depth values: \", depth_vals[1:10])\n"
   ]
  },
  {
   "cell_type": "code",
   "execution_count": null,
   "id": "ffa18c08-cf97-464d-b3f8-977c3d0c70b2",
   "metadata": {},
   "outputs": [],
   "source": [
    "# #keep this code for checks --> prints ugrid fields \n",
    "# ugrid = grid.underlying_grid  \n",
    "# println(\"Available fields in ugrid: \", fieldnames(typeof(ugrid)))\n",
    "# println(propertynames(ugrid.z))  # all available fields inside `z`, ugrid.z.cᵃᵃᶜ contains cell center z\n",
    "\n",
    "\n",
    "\n",
    "# # # 'z' specific\n",
    "# # println(\"Possible depth fields: \",\n",
    "# #     filter(name -> occursin(\"z\", string(name)), propertynames(ugrid))\n",
    "# # \n"
   ]
  },
  {
   "cell_type": "code",
   "execution_count": null,
   "id": "a9c7affc-a413-48d0-af2b-1eb57207814a",
   "metadata": {},
   "outputs": [],
   "source": [
    "# #this runs for 10 days & would be full implementation: have not tried this yet \n",
    "# using Oceananigans\n",
    "# using Oceananigans.OutputWriters\n",
    "\n",
    "# simulation = Simulation(model, Δt=10minutes, stop_time=10days)\n",
    "\n",
    "# wizard = TimeStepWizard(cfl=0.3)\n",
    "# simulation.callbacks[:wizard] = Callback(wizard, IterationInterval(10))\n",
    "\n",
    "# simulation.output_writers[:tracer] = NetCDFOutputWriter(model, model.tracers,\n",
    "#                               filename = \"Tracer_2_19.nc\",\n",
    "#                               schedule = TimeInterval(30minutes))  \n",
    "\n",
    "# simulation.callbacks[:flush_output] = Callback(TimeInterval(60minutes)) do sim\n",
    "#     println(\"Flushing NetCDF output at time: \", sim.model.clock.time)\n",
    "#     sim.output_writers[:tracer].flush()\n",
    "# end\n",
    "\n",
    "# println(\"Starting simulation with NetCDF output...\")\n",
    "# println(\"Simulation will run from 0 to \", simulation.stop_time)\n",
    "\n",
    "# run!(simulation) \n",
    "\n",
    "# println(\"Simulation complete! Output saved to 'Tracer_2_19.nc'.\")\n"
   ]
  },
  {
   "cell_type": "code",
   "execution_count": null,
   "id": "07dab4e0-0914-4900-b8ee-857e7e0b7a1a",
   "metadata": {},
   "outputs": [],
   "source": [
    "# #tests \n",
    "# @show size(model.tracers.c)\n",
    "# @show model.closure\n",
    "# @show extrema(model.tracers.c)\n",
    "# @show sum(model.tracers.c)"
   ]
  },
  {
   "cell_type": "code",
   "execution_count": null,
   "id": "2e1a49fe-a765-4fd0-828e-412a98e65a45",
   "metadata": {},
   "outputs": [],
   "source": [
    "#test case that I did run : \n",
    "using Oceananigans\n",
    "using Oceananigans.OutputWriters\n",
    "\n",
    "simulation = Simulation(model, Δt=10minutes, stop_time=60minutes) \n",
    "\n",
    "wizard = TimeStepWizard(cfl=0.2)\n",
    "simulation.callbacks[:wizard] = Callback(wizard, IterationInterval(10))\n",
    "\n",
    "simulation.output_writers[:output] = NetCDFOutputWriter(model, merge(model.tracers, model.velocities),\n",
    "                              filename = \"test4_output.nc\", #update\n",
    "                              schedule = TimeInterval(5minutes))\n",
    "simulation.callbacks[:flush_output] = Callback(TimeInterval(60minutes)) do sim\n",
    "    println(\"Checkpoint: NetCDF output written at time: \", sim.model.clock.time)\n",
    "end\n",
    "\n",
    "println(\"Starting short test run...\")\n",
    "println(\"Simulation will run for 1 hour of model time.\")\n",
    "\n",
    "run!(simulation) \n",
    "\n",
    "println(\"Test complete! Output saved to 'test_output.nc'.\") #update"
   ]
  },
  {
   "cell_type": "code",
   "execution_count": null,
   "id": "f9baf4c2-186c-449a-bba1-2eeb0497936e",
   "metadata": {},
   "outputs": [],
   "source": []
  },
  {
   "cell_type": "code",
   "execution_count": null,
   "id": "a2595772-cdb4-4d3e-aae9-8dbfeef638c9",
   "metadata": {},
   "outputs": [],
   "source": []
  },
  {
   "cell_type": "code",
   "execution_count": null,
   "id": "22030db4-f51e-4dc8-828b-4aaa2334d368",
   "metadata": {},
   "outputs": [],
   "source": []
  }
 ],
 "metadata": {
  "kernelspec": {
   "display_name": "Julia 1.11.3",
   "language": "julia",
   "name": "julia-1.11"
  },
  "language_info": {
   "file_extension": ".jl",
   "mimetype": "application/julia",
   "name": "julia",
   "version": "1.11.3"
  }
 },
 "nbformat": 4,
 "nbformat_minor": 5
}
