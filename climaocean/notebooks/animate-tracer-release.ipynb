{
 "cells": [
  {
   "cell_type": "markdown",
   "id": "c5ea3df7-e6bf-48e4-942b-d52fdf273db1",
   "metadata": {},
   "source": [
    "# Animation\n",
    "this notebook uses [xmovie](https://xmovie.readthedocs.io/en/latest/examples/quickstart.html) to animate simulation output\n",
    "\n",
    "This requires having xmovie and ffmpeg installed. Use the following to install into your conda environment\n",
    "```\n",
    "conda install -c conda-forge xmovie ffmpeg\n",
    "```"
   ]
  },
  {
   "cell_type": "code",
   "execution_count": 11,
   "id": "622af604-a13c-46cb-ac4b-6d1dcfcff1c8",
   "metadata": {},
   "outputs": [],
   "source": [
    "import cartopy.crs as ccrs\n",
    "import cartopy.feature as cfeature\n",
    "from cartopy.mpl.geoaxes import GeoAxes\n",
    "import cmocean as cm\n",
    "import matplotlib.pyplot as plt\n",
    "import matplotlib as mpl\n",
    "from mpl_toolkits.axes_grid1 import AxesGrid\n",
    "import matplotlib.path as mpath\n",
    "import matplotlib.pyplot as plt\n",
    "import numpy as np\n",
    "from pathlib import Path\n",
    "import xarray as xr\n",
    "from xmovie import Movie"
   ]
  },
  {
   "cell_type": "markdown",
   "id": "753a52de-ba55-4ac8-817d-77d14b434096",
   "metadata": {},
   "source": [
    "# Read data"
   ]
  },
  {
   "cell_type": "code",
   "execution_count": 12,
   "id": "9cf65e4d-9ad4-453e-a155-2b379ff00436",
   "metadata": {},
   "outputs": [],
   "source": [
    "file = \"/home/ljg48/project/oceananigans/test-release_2025-02-25.nc\"\n",
    "ds = xr.open_dataset(file)"
   ]
  },
  {
   "cell_type": "markdown",
   "id": "3a5b9f1e-199b-4c0f-b52c-4c93c26dd069",
   "metadata": {},
   "source": [
    "# Create animation\n",
    "* this uses a custom plot function that generates each frame at timestep tt\n",
    "* takes about 5 minutes to generate the animation "
   ]
  },
  {
   "cell_type": "code",
   "execution_count": 8,
   "id": "67f39c4d-1fd1-43aa-bdb6-73e56e916c6b",
   "metadata": {},
   "outputs": [],
   "source": [
    "def custom_plotfunc(ds, fig, tt, *args, **kwargs):\n",
    "    # ========================================================================\n",
    "    # variables / settings\n",
    "    # ========================================================================    \n",
    "    # sets plot index (useful when have subplots)\n",
    "    ind = 0 \n",
    "    \n",
    "    # colormap settings\n",
    "    cmap = cm.cm.amp\n",
    "    vmin=0      # min color\n",
    "    vmax=0.01   # max color \n",
    "    ncolors=101 # number of colors to plot\n",
    "    \n",
    "    \n",
    "    # ========================================================================\n",
    "    # setup plotting grid\n",
    "    # Creates a zoomed-in grid around Port Angeles, Washington\n",
    "    # ========================================================================\n",
    "    extent = [234-360, 239-360, 47, 51]\n",
    "    \n",
    "    projection = ccrs.PlateCarree()\n",
    "    axes_class = (GeoAxes, dict(projection=projection))\n",
    "    \n",
    "    grid_params = {\n",
    "        'rect': [1, 1, 1],          # Specifies the location of the grid\n",
    "        'axes_class': axes_class,  \n",
    "        'share_all': False,         # x-axis & y-axis of all axes are shared if True\n",
    "        'nrows_ncols': (1, 1),      # Number of rows and cols, e.g., (2,2)\n",
    "        \"ngrids\": None,             # Number of grids, nrows x ncols if None\n",
    "        \"direction\": \"row\",         # Increasing direction of axes number [row|column]\n",
    "        'axes_pad': 0.1,            # Pad between axes in inches\n",
    "        'cbar_location': 'bottom',  # [left|right|top|bottom]\n",
    "        'cbar_mode': 'single',      # [None|single|each]\n",
    "        'cbar_pad': 0.1,            # Pad between image axes and colorbar axes\n",
    "        'cbar_size': '7%',          # Size of the colorbar\n",
    "    }\n",
    "        \n",
    "    grid = AxesGrid(fig, **grid_params) \n",
    "    \n",
    "    # Set extent for each subplot\n",
    "    for ax in grid:\n",
    "        ax.set_extent(extent, crs=ccrs.PlateCarree())  # Zoom into Port Angeles area\n",
    "        ax.add_feature(cfeature.COASTLINE)\n",
    "        #ax.add_feature(cfeature.BORDERS, linestyle=':')\n",
    "        ax.add_feature(cfeature.LAND, facecolor='lightgray')\n",
    "        #ax.add_feature(cfeature.OCEAN, facecolor='lightblue')\n",
    "    \n",
    "    # ========================================================================\n",
    "    # process data\n",
    "    # ========================================================================\n",
    "    # simple land mask\n",
    "    mask = ds['S'].squeeze().isel(time=0)>0\n",
    "\n",
    "    # concentration at each time step tt\n",
    "    data = ds[\"c\"].sel(time=ds[\"time\"][tt]).where(mask).squeeze()\n",
    "    \n",
    "    # ========================================================================\n",
    "    # plot data\n",
    "    # ========================================================================\n",
    "    bounds = np.linspace(vmin, vmax, ncolors) \n",
    "    plot_params = {\n",
    "        \"cmap\": cmap,\n",
    "        'transform':ccrs.PlateCarree(central_longitude=0),\n",
    "        \"vmin\": vmin,\n",
    "        \"vmax\": vmax,\n",
    "    }\n",
    "    \n",
    "    transform = ccrs.PlateCarree(central_longitude=0) \n",
    "    sub = grid[ind].pcolormesh(data.xC, data.yC, data, **plot_params)\n",
    "    \n",
    "    # ========================================================================\n",
    "    # add colorbar\n",
    "    # ========================================================================\n",
    "    bounds = np.linspace(vmin, vmax, ncolors) \n",
    "    colormap_params = {\n",
    "        'orientation':'horizontal',\n",
    "        'cmap': cmap,\n",
    "        \"norm\": mpl.colors.Normalize(vmin=vmin, vmax=vmax),\n",
    "        #\"norm\": mpl.colors.BoundaryNorm(bounds, ncolors),\n",
    "        'extend': None\n",
    "    }\n",
    "    \n",
    "    col = mpl.colorbar.ColorbarBase(grid.cbar_axes[0], **colormap_params)\n",
    "    col.ax.set_xlabel('Tracer Concentration')\n",
    "    \n",
    "    # ========================================================================\n",
    "    # annotations\n",
    "    # ========================================================================\n",
    "    grid[ind].text(0.7, 0.95, \n",
    "        f'Day: {tt}', \n",
    "        transform=grid[ind].transAxes,\n",
    "        fontsize=12, \n",
    "        verticalalignment='top', \n",
    "        horizontalalignment='left'\n",
    "    )\n",
    "    \n",
    "    return None, None\n",
    "    # ^ This is not strictly necessary, but otherwise a warning will be raised.\n"
   ]
  },
  {
   "cell_type": "code",
   "execution_count": 9,
   "id": "ad1ed2ba-81b1-4ccb-9e9b-d576ccb74d8e",
   "metadata": {},
   "outputs": [],
   "source": [
    "fig = plt.figure(dpi=200)\n",
    "mov_custom = Movie(ds, custom_plotfunc, input_check=False)\n",
    "mov_custom.save('tracer-animation.gif', progress=True)"
   ]
  }
 ],
 "metadata": {
  "kernelspec": {
   "display_name": "Python 3 (ipykernel)",
   "language": "python",
   "name": "python3"
  },
  "language_info": {
   "codemirror_mode": {
    "name": "ipython",
    "version": 3
   },
   "file_extension": ".py",
   "mimetype": "text/x-python",
   "name": "python",
   "nbconvert_exporter": "python",
   "pygments_lexer": "ipython3",
   "version": "3.11.7"
  }
 },
 "nbformat": 4,
 "nbformat_minor": 5
}
